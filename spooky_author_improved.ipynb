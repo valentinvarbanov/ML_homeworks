{
 "cells": [
  {
   "cell_type": "code",
   "execution_count": 1,
   "metadata": {},
   "outputs": [],
   "source": [
    "import numpy as np\n",
    "import matplotlib.pyplot as plt\n",
    "import pandas as pd\n",
    "import seaborn as sns\n",
    "import mglearn\n",
    "\n",
    "from IPython.display import display\n",
    "\n",
    "%matplotlib inline\n",
    "\n",
    "pd.options.display.max_rows = 15\n",
    "\n",
    "sns.set()"
   ]
  },
  {
   "cell_type": "code",
   "execution_count": 18,
   "metadata": {},
   "outputs": [
    {
     "data": {
      "text/html": [
       "<div>\n",
       "<style>\n",
       "    .dataframe thead tr:only-child th {\n",
       "        text-align: right;\n",
       "    }\n",
       "\n",
       "    .dataframe thead th {\n",
       "        text-align: left;\n",
       "    }\n",
       "\n",
       "    .dataframe tbody tr th {\n",
       "        vertical-align: top;\n",
       "    }\n",
       "</style>\n",
       "<table border=\"1\" class=\"dataframe\">\n",
       "  <thead>\n",
       "    <tr style=\"text-align: right;\">\n",
       "      <th></th>\n",
       "      <th>text</th>\n",
       "      <th>author</th>\n",
       "    </tr>\n",
       "    <tr>\n",
       "      <th>id</th>\n",
       "      <th></th>\n",
       "      <th></th>\n",
       "    </tr>\n",
       "  </thead>\n",
       "  <tbody>\n",
       "    <tr>\n",
       "      <th>id26305</th>\n",
       "      <td>This process, however, afforded me no means of...</td>\n",
       "      <td>EAP</td>\n",
       "    </tr>\n",
       "    <tr>\n",
       "      <th>id17569</th>\n",
       "      <td>It never once occurred to me that the fumbling...</td>\n",
       "      <td>HPL</td>\n",
       "    </tr>\n",
       "    <tr>\n",
       "      <th>id11008</th>\n",
       "      <td>In his left hand was a gold snuff box, from wh...</td>\n",
       "      <td>EAP</td>\n",
       "    </tr>\n",
       "    <tr>\n",
       "      <th>id27763</th>\n",
       "      <td>How lovely is spring As we looked from Windsor...</td>\n",
       "      <td>MWS</td>\n",
       "    </tr>\n",
       "    <tr>\n",
       "      <th>id12958</th>\n",
       "      <td>Finding nothing else, not even gold, the Super...</td>\n",
       "      <td>HPL</td>\n",
       "    </tr>\n",
       "    <tr>\n",
       "      <th>id22965</th>\n",
       "      <td>A youth passed in solitude, my best years spen...</td>\n",
       "      <td>MWS</td>\n",
       "    </tr>\n",
       "    <tr>\n",
       "      <th>id09674</th>\n",
       "      <td>The astronomer, perhaps, at this point, took r...</td>\n",
       "      <td>EAP</td>\n",
       "    </tr>\n",
       "    <tr>\n",
       "      <th>...</th>\n",
       "      <td>...</td>\n",
       "      <td>...</td>\n",
       "    </tr>\n",
       "    <tr>\n",
       "      <th>id03325</th>\n",
       "      <td>But these and other difficulties attending res...</td>\n",
       "      <td>EAP</td>\n",
       "    </tr>\n",
       "    <tr>\n",
       "      <th>id07567</th>\n",
       "      <td>Stress of weather drove us up the Adriatic Gul...</td>\n",
       "      <td>MWS</td>\n",
       "    </tr>\n",
       "    <tr>\n",
       "      <th>id17718</th>\n",
       "      <td>I could have fancied, while I looked at it, th...</td>\n",
       "      <td>EAP</td>\n",
       "    </tr>\n",
       "    <tr>\n",
       "      <th>id08973</th>\n",
       "      <td>The lids clenched themselves together as if in...</td>\n",
       "      <td>EAP</td>\n",
       "    </tr>\n",
       "    <tr>\n",
       "      <th>id05267</th>\n",
       "      <td>Mais il faut agir that is to say, a Frenchman ...</td>\n",
       "      <td>EAP</td>\n",
       "    </tr>\n",
       "    <tr>\n",
       "      <th>id17513</th>\n",
       "      <td>For an item of news like this, it strikes us i...</td>\n",
       "      <td>EAP</td>\n",
       "    </tr>\n",
       "    <tr>\n",
       "      <th>id00393</th>\n",
       "      <td>He laid a gnarled claw on my shoulder, and it ...</td>\n",
       "      <td>HPL</td>\n",
       "    </tr>\n",
       "  </tbody>\n",
       "</table>\n",
       "<p>19579 rows × 2 columns</p>\n",
       "</div>"
      ],
      "text/plain": [
       "                                                      text author\n",
       "id                                                               \n",
       "id26305  This process, however, afforded me no means of...    EAP\n",
       "id17569  It never once occurred to me that the fumbling...    HPL\n",
       "id11008  In his left hand was a gold snuff box, from wh...    EAP\n",
       "id27763  How lovely is spring As we looked from Windsor...    MWS\n",
       "id12958  Finding nothing else, not even gold, the Super...    HPL\n",
       "id22965  A youth passed in solitude, my best years spen...    MWS\n",
       "id09674  The astronomer, perhaps, at this point, took r...    EAP\n",
       "...                                                    ...    ...\n",
       "id03325  But these and other difficulties attending res...    EAP\n",
       "id07567  Stress of weather drove us up the Adriatic Gul...    MWS\n",
       "id17718  I could have fancied, while I looked at it, th...    EAP\n",
       "id08973  The lids clenched themselves together as if in...    EAP\n",
       "id05267  Mais il faut agir that is to say, a Frenchman ...    EAP\n",
       "id17513  For an item of news like this, it strikes us i...    EAP\n",
       "id00393  He laid a gnarled claw on my shoulder, and it ...    HPL\n",
       "\n",
       "[19579 rows x 2 columns]"
      ]
     },
     "execution_count": 18,
     "metadata": {},
     "output_type": "execute_result"
    }
   ],
   "source": [
    "original_data = pd.read_csv(\"data/spooky-authors/train.zip\", index_col=['id'])\n",
    "original_data"
   ]
  },
  {
   "cell_type": "code",
   "execution_count": 13,
   "metadata": {},
   "outputs": [],
   "source": [
    "from sklearn.pipeline import Pipeline\n",
    "from sklearn.svm import LinearSVC\n",
    "from sklearn.feature_extraction.text import CountVectorizer\n",
    "from sklearn.model_selection import cross_val_score"
   ]
  },
  {
   "cell_type": "code",
   "execution_count": 15,
   "metadata": {},
   "outputs": [
    {
     "name": "stdout",
     "output_type": "stream",
     "text": [
      "[ 0.78783701  0.79635305  0.79509579]\n",
      "0.793095281529\n"
     ]
    }
   ],
   "source": [
    "pipeline = Pipeline([\n",
    "    ('features', CountVectorizer()),\n",
    "    ('clf', LinearSVC())\n",
    "])\n",
    "\n",
    "result = cross_val_score(pipeline, original_data.text, original_data.author, cv=3, n_jobs=3)\n",
    "\n",
    "\n",
    "print(result)\n",
    "print(result.mean())"
   ]
  },
  {
   "cell_type": "code",
   "execution_count": 17,
   "metadata": {},
   "outputs": [
    {
     "name": "stdout",
     "output_type": "stream",
     "text": [
      "[ 0.81449142  0.81673307  0.81348659]\n",
      "0.814903693112\n",
      "[-0.4767833  -0.47558918 -0.47131329]\n",
      "-0.474561923192\n"
     ]
    }
   ],
   "source": [
    "from sklearn.linear_model import LogisticRegression\n",
    "\n",
    "pipeline = Pipeline([\n",
    "    ('features', CountVectorizer()),\n",
    "    ('clf', LogisticRegression())\n",
    "])\n",
    "\n",
    "result = cross_val_score(pipeline, original_data.text, original_data.author, cv=3, n_jobs=3)\n",
    "result_log_loss = cross_val_score(pipeline, original_data.text, original_data.author, cv=3, n_jobs=3, \n",
    "                                  scoring='neg_log_loss')\n",
    "\n",
    "print(result)\n",
    "print(result.mean())\n",
    "\n",
    "print(result_log_loss)\n",
    "print(result_log_loss.mean())"
   ]
  },
  {
   "cell_type": "raw",
   "metadata": {},
   "source": [
    "нека пробваме с полиномиални фичъри, като използваме SVC с кърнала rbf"
   ]
  },
  {
   "cell_type": "code",
   "execution_count": 25,
   "metadata": {},
   "outputs": [
    {
     "name": "stdout",
     "output_type": "stream",
     "text": [
      "[ 0.77251838  0.7744407   0.77716475]\n",
      "0.774707944018\n"
     ]
    }
   ],
   "source": [
    "from sklearn.preprocessing import PolynomialFeatures\n",
    "\n",
    "pipeline = Pipeline([\n",
    "    ('features', CountVectorizer()),\n",
    "    ('svc', SVC(degree=2))\n",
    "])\n",
    "\n",
    "result = cross_val_score(pipeline, original_data.text, original_data.author, cv=3, n_jobs=3)                             scoring='neg_log_loss')\n",
    "\n",
    "print(result)\n",
    "print(result.mean())"
   ]
  },
  {
   "cell_type": "raw",
   "metadata": {},
   "source": [
    "лошо не помага, може би създава прекалено много фичъри"
   ]
  },
  {
   "cell_type": "raw",
   "metadata": {},
   "source": [
    "KNN?"
   ]
  },
  {
   "cell_type": "code",
   "execution_count": 30,
   "metadata": {},
   "outputs": [
    {
     "name": "stdout",
     "output_type": "stream",
     "text": [
      "[ 0.77251838  0.7744407   0.77716475]\n",
      "0.774707944018\n"
     ]
    }
   ],
   "source": [
    "from sklearn.neighbors import KNeighborsClassifier\n",
    "\n",
    "pipeline = Pipeline([\n",
    "    ('features', CountVectorizer()),\n",
    "    ('knn', KNeighborsClassifier(n_neighbors=10))\n",
    "])\n",
    "\n",
    "result = cross_val_score(pipeline, original_data.text, original_data.author, cv=3, n_jobs=3)\n",
    "result_log_loss = cross_val_score(pipeline, original_data.text, original_data.author, cv=3, n_jobs=3, \n",
    "                                  scoring='neg_log_loss')\n",
    "print(result)\n",
    "print(result.mean())\n",
    "\n",
    "print(result_log_loss)\n",
    "print(result_log_loss.mean())"
   ]
  },
  {
   "cell_type": "raw",
   "metadata": {},
   "source": [
    "KNN не дава по-добри резултати малко над това да даваме само средните стойности"
   ]
  },
  {
   "cell_type": "raw",
   "metadata": {},
   "source": [
    "ще опитаме да подобрим параметрите на модела от лекцията"
   ]
  },
  {
   "cell_type": "code",
   "execution_count": 47,
   "metadata": {},
   "outputs": [],
   "source": [
    "def report(results, n_top=5):\n",
    "    for i in range(1, n_top + 1):\n",
    "        candidates = np.flatnonzero(results['rank_test_score'] == i)\n",
    "        for candidate in candidates:\n",
    "            print(\"Model with rank: {0}\".format(i))\n",
    "            print(\"Mean validation score: {0:.3f} (std: {1:.3f})\".format(\n",
    "                  results['mean_test_score'][candidate],\n",
    "                  results['std_test_score'][candidate]))\n",
    "            print(\"Parameters: {0}\".format(results['params'][candidate]))\n",
    "            print(\"\")"
   ]
  },
  {
   "cell_type": "code",
   "execution_count": 48,
   "metadata": {},
   "outputs": [
    {
     "name": "stdout",
     "output_type": "stream",
     "text": [
      "Model with rank: 1\n",
      "Mean validation score: -0.410 (std: 0.002)\n",
      "Parameters: {'features__ngram_range': (1, 3), 'features__min_df': 2, 'features__max_df': 0.5, 'features__lowercase': False, 'features__analyzer': 'word', 'clf__alpha': 0.05}\n",
      "\n",
      "Model with rank: 2\n",
      "Mean validation score: -0.420 (std: 0.003)\n",
      "Parameters: {'features__ngram_range': (1, 2), 'features__min_df': 2, 'features__max_df': 0.4, 'features__lowercase': True, 'features__analyzer': 'word', 'clf__alpha': 0.1}\n",
      "\n",
      "Model with rank: 3\n",
      "Mean validation score: -0.424 (std: 0.003)\n",
      "Parameters: {'features__ngram_range': (1, 2), 'features__min_df': 2, 'features__max_df': 1.0, 'features__lowercase': True, 'features__analyzer': 'word', 'clf__alpha': 0.01}\n",
      "\n",
      "Model with rank: 4\n",
      "Mean validation score: -0.430 (std: 0.006)\n",
      "Parameters: {'features__ngram_range': (1, 3), 'features__min_df': 3, 'features__max_df': 0.8, 'features__lowercase': True, 'features__analyzer': 'word', 'clf__alpha': 0.05}\n",
      "\n",
      "Model with rank: 5\n",
      "Mean validation score: -0.445 (std: 0.003)\n",
      "Parameters: {'features__ngram_range': (1, 2), 'features__min_df': 2, 'features__max_df': 0.3, 'features__lowercase': True, 'features__analyzer': 'word', 'clf__alpha': 0.005}\n",
      "\n"
     ]
    }
   ],
   "source": [
    "from sklearn.feature_extraction.text import TfidfVectorizer\n",
    "from sklearn.naive_bayes import MultinomialNB\n",
    "from sklearn.model_selection import RandomizedSearchCV\n",
    "from sklearn.metrics import log_loss\n",
    "\n",
    "def random_search():\n",
    "    params = {\n",
    "        \"clf__alpha\": [0.001, 0.005, 0.01, 0.05, 0.1, 0.3],\n",
    "        \"features__ngram_range\": [(1,1), (1,2), (1,3)],\n",
    "        \"features__analyzer\": ['word'],\n",
    "        \"features__max_df\":[1.0, 0.9, 0.8, 0.7, 0.6, 0.5, 0.4, 0.3],\n",
    "        \"features__min_df\":[2, 3, 5, 10, 20],\n",
    "        \"features__lowercase\": [False, True]\n",
    "    }\n",
    "\n",
    "    pipeline = Pipeline([\n",
    "        ('features', TfidfVectorizer()),\n",
    "        ('clf', MultinomialNB())\n",
    "    ])\n",
    "\n",
    "    random_search = RandomizedSearchCV(pipeline, param_distributions=params, \n",
    "                                       scoring='neg_log_loss',\n",
    "                                       n_iter=30, cv=3, n_jobs=8)\n",
    "\n",
    "    random_search.fit(original_data.text, original_data.author)\n",
    "    report(random_search.cv_results_)\n",
    "    \n",
    "# random_search()  # -0.410"
   ]
  },
  {
   "cell_type": "raw",
   "metadata": {},
   "source": [
    "Model with rank: 1\n",
    "Mean validation score: -0.410 (std: 0.002)\n",
    "Parameters: {'features__ngram_range': (1, 3), 'features__min_df': 2, 'features__max_df': 0.5, 'features__lowercase': False, 'features__analyzer': 'word', 'clf__alpha': 0.05}"
   ]
  },
  {
   "cell_type": "raw",
   "metadata": {},
   "source": [
    "изглежда че random_search намира:\n",
    "    малки стойности за алфа\n",
    "    1,2 1,3 n-грами\n",
    "    ниска горна граница на думите(около 30% може би само тези който се срещат в един от авторите)\n",
    "    долна граница 2,3 срещания\n",
    "    lowercase False\n",
    "   \n",
    "нека потърсим още по точни резултати"
   ]
  },
  {
   "cell_type": "code",
   "execution_count": 52,
   "metadata": {},
   "outputs": [
    {
     "name": "stdout",
     "output_type": "stream",
     "text": [
      "Model with rank: 1\n",
      "Mean validation score: -0.406 (std: 0.002)\n",
      "Parameters: {'clf__alpha': 0.05, 'features__lowercase': False, 'features__max_df': 0.3, 'features__min_df': 2, 'features__ngram_range': (1, 2)}\n",
      "\n",
      "Model with rank: 2\n",
      "Mean validation score: -0.406 (std: 0.002)\n",
      "Parameters: {'clf__alpha': 0.05, 'features__lowercase': False, 'features__max_df': 0.4, 'features__min_df': 2, 'features__ngram_range': (1, 2)}\n",
      "\n",
      "Model with rank: 3\n",
      "Mean validation score: -0.406 (std: 0.002)\n",
      "Parameters: {'clf__alpha': 0.05, 'features__lowercase': False, 'features__max_df': 0.2, 'features__min_df': 2, 'features__ngram_range': (1, 2)}\n",
      "\n",
      "Model with rank: 4\n",
      "Mean validation score: -0.410 (std: 0.002)\n",
      "Parameters: {'clf__alpha': 0.05, 'features__lowercase': False, 'features__max_df': 0.3, 'features__min_df': 2, 'features__ngram_range': (1, 3)}\n",
      "\n",
      "Model with rank: 5\n",
      "Mean validation score: -0.410 (std: 0.002)\n",
      "Parameters: {'clf__alpha': 0.05, 'features__lowercase': False, 'features__max_df': 0.4, 'features__min_df': 2, 'features__ngram_range': (1, 3)}\n",
      "\n"
     ]
    }
   ],
   "source": [
    "from sklearn.model_selection import GridSearchCV\n",
    "\n",
    "def grid_search():\n",
    "    params = {\n",
    "        \"clf__alpha\": [0.005, 0.01, 0.05],\n",
    "        \"features__ngram_range\": [(1,2), (1,3)],\n",
    "        \"features__max_df\":[0.4, 0.3, 0.2],\n",
    "        \"features__min_df\":[2],\n",
    "        \"features__lowercase\": [False]\n",
    "    }\n",
    "\n",
    "    pipeline = Pipeline([\n",
    "        ('features', TfidfVectorizer()),\n",
    "        ('clf', MultinomialNB())\n",
    "    ])\n",
    "\n",
    "    grid_search = GridSearchCV(pipeline, params, scoring='neg_log_loss', cv=3, n_jobs=8)\n",
    "\n",
    "    grid_search.fit(original_data.text, original_data.author)\n",
    "    report(grid_search.cv_results_)\n",
    "    \n",
    "# grid_search()  # -0.406"
   ]
  },
  {
   "cell_type": "raw",
   "metadata": {},
   "source": [
    "нещата не се промениха много резултата стадна много малко"
   ]
  },
  {
   "cell_type": "code",
   "execution_count": 78,
   "metadata": {},
   "outputs": [
    {
     "name": "stdout",
     "output_type": "stream",
     "text": [
      "[ 0.8393076   0.84186332  0.84015326]\n",
      "0.840441390237\n",
      "[-0.40882509 -0.40361933 -0.40480497]\n",
      "-0.405749794283\n"
     ]
    }
   ],
   "source": [
    "pipeline = Pipeline([\n",
    "    ('features', TfidfVectorizer(lowercase=False, max_df=0.3, min_df=2, ngram_range=(1,2))),\n",
    "    ('clf', MultinomialNB(alpha=0.05))\n",
    "])\n",
    "\n",
    "result          = cross_val_score(pipeline, original_data.text, original_data.author, cv=3, n_jobs=3)\n",
    "result_log_loss = cross_val_score(pipeline, original_data.text, original_data.author, cv=3, n_jobs=3, \n",
    "                                  scoring='neg_log_loss')\n",
    "\n",
    "print(result)\n",
    "print(result.mean())\n",
    "\n",
    "print(result_log_loss)\n",
    "print(result_log_loss.mean())"
   ]
  },
  {
   "cell_type": "code",
   "execution_count": 79,
   "metadata": {},
   "outputs": [
    {
     "data": {
      "text/plain": [
       "0.98666939067368098"
      ]
     },
     "execution_count": 79,
     "metadata": {},
     "output_type": "execute_result"
    }
   ],
   "source": [
    "pipeline.fit(original_data.text, original_data.author)\n",
    "pipeline.score(original_data.text, original_data.author)"
   ]
  },
  {
   "cell_type": "code",
   "execution_count": 59,
   "metadata": {},
   "outputs": [
    {
     "data": {
      "text/html": [
       "<div>\n",
       "<style>\n",
       "    .dataframe thead tr:only-child th {\n",
       "        text-align: right;\n",
       "    }\n",
       "\n",
       "    .dataframe thead th {\n",
       "        text-align: left;\n",
       "    }\n",
       "\n",
       "    .dataframe tbody tr th {\n",
       "        vertical-align: top;\n",
       "    }\n",
       "</style>\n",
       "<table border=\"1\" class=\"dataframe\">\n",
       "  <thead>\n",
       "    <tr style=\"text-align: right;\">\n",
       "      <th></th>\n",
       "      <th>text</th>\n",
       "    </tr>\n",
       "    <tr>\n",
       "      <th>id</th>\n",
       "      <th></th>\n",
       "    </tr>\n",
       "  </thead>\n",
       "  <tbody>\n",
       "    <tr>\n",
       "      <th>id02310</th>\n",
       "      <td>Still, as I urged our leaving Ireland with suc...</td>\n",
       "    </tr>\n",
       "    <tr>\n",
       "      <th>id24541</th>\n",
       "      <td>If a fire wanted fanning, it could readily be ...</td>\n",
       "    </tr>\n",
       "    <tr>\n",
       "      <th>id00134</th>\n",
       "      <td>And when they had broken down the frail door t...</td>\n",
       "    </tr>\n",
       "    <tr>\n",
       "      <th>id27757</th>\n",
       "      <td>While I was thinking how I should possibly man...</td>\n",
       "    </tr>\n",
       "    <tr>\n",
       "      <th>id04081</th>\n",
       "      <td>I am not sure to what limit his knowledge may ...</td>\n",
       "    </tr>\n",
       "    <tr>\n",
       "      <th>id27337</th>\n",
       "      <td>\"The thick and peculiar mist, or smoke, which ...</td>\n",
       "    </tr>\n",
       "    <tr>\n",
       "      <th>id24265</th>\n",
       "      <td>That which is not matter, is not at all unless...</td>\n",
       "    </tr>\n",
       "    <tr>\n",
       "      <th>...</th>\n",
       "      <td>...</td>\n",
       "    </tr>\n",
       "    <tr>\n",
       "      <th>id07156</th>\n",
       "      <td>Consoling myself with this reflection, I was m...</td>\n",
       "    </tr>\n",
       "    <tr>\n",
       "      <th>id04893</th>\n",
       "      <td>Yet we laughed and were merry in our proper wa...</td>\n",
       "    </tr>\n",
       "    <tr>\n",
       "      <th>id11749</th>\n",
       "      <td>All this is now the fitter for my purpose.</td>\n",
       "    </tr>\n",
       "    <tr>\n",
       "      <th>id10526</th>\n",
       "      <td>I fixed myself on a wide solitude.</td>\n",
       "    </tr>\n",
       "    <tr>\n",
       "      <th>id13477</th>\n",
       "      <td>It is easily understood that what might improv...</td>\n",
       "    </tr>\n",
       "    <tr>\n",
       "      <th>id13761</th>\n",
       "      <td>Be this as it may, I now began to feel the ins...</td>\n",
       "    </tr>\n",
       "    <tr>\n",
       "      <th>id04282</th>\n",
       "      <td>Long winded, statistical, and drearily genealo...</td>\n",
       "    </tr>\n",
       "  </tbody>\n",
       "</table>\n",
       "<p>8392 rows × 1 columns</p>\n",
       "</div>"
      ],
      "text/plain": [
       "                                                      text\n",
       "id                                                        \n",
       "id02310  Still, as I urged our leaving Ireland with suc...\n",
       "id24541  If a fire wanted fanning, it could readily be ...\n",
       "id00134  And when they had broken down the frail door t...\n",
       "id27757  While I was thinking how I should possibly man...\n",
       "id04081  I am not sure to what limit his knowledge may ...\n",
       "id27337  \"The thick and peculiar mist, or smoke, which ...\n",
       "id24265  That which is not matter, is not at all unless...\n",
       "...                                                    ...\n",
       "id07156  Consoling myself with this reflection, I was m...\n",
       "id04893  Yet we laughed and were merry in our proper wa...\n",
       "id11749         All this is now the fitter for my purpose.\n",
       "id10526                 I fixed myself on a wide solitude.\n",
       "id13477  It is easily understood that what might improv...\n",
       "id13761  Be this as it may, I now began to feel the ins...\n",
       "id04282  Long winded, statistical, and drearily genealo...\n",
       "\n",
       "[8392 rows x 1 columns]"
      ]
     },
     "execution_count": 59,
     "metadata": {},
     "output_type": "execute_result"
    }
   ],
   "source": [
    "test = pd.read_csv(\"data/spooky-authors/test.zip\", index_col=['id'])\n",
    "test"
   ]
  },
  {
   "cell_type": "code",
   "execution_count": 80,
   "metadata": {},
   "outputs": [],
   "source": [
    "test_predictions = pipeline.predict_proba(test.text)"
   ]
  },
  {
   "cell_type": "code",
   "execution_count": 81,
   "metadata": {},
   "outputs": [
    {
     "data": {
      "text/plain": [
       "array([[ 0.03663063,  0.00969218,  0.95367719],\n",
       "       [ 0.92377063,  0.06992591,  0.00630346],\n",
       "       [ 0.01520444,  0.97756796,  0.00722761],\n",
       "       ..., \n",
       "       [ 0.91366229,  0.03782161,  0.04851609],\n",
       "       [ 0.10400809,  0.01017695,  0.88581496],\n",
       "       [ 0.41292266,  0.57647207,  0.01060527]])"
      ]
     },
     "execution_count": 81,
     "metadata": {},
     "output_type": "execute_result"
    }
   ],
   "source": [
    "test_predictions"
   ]
  },
  {
   "cell_type": "code",
   "execution_count": 82,
   "metadata": {},
   "outputs": [
    {
     "name": "stdout",
     "output_type": "stream",
     "text": [
      "['EAP' 'HPL' 'MWS']\n"
     ]
    }
   ],
   "source": [
    "print(pipeline.classes_)"
   ]
  },
  {
   "cell_type": "raw",
   "metadata": {},
   "source": [
    "хубаво е да се проверяват имената на колонките защото при разменени имена на 2 колони и качени скора е ~2.5 😁"
   ]
  },
  {
   "cell_type": "code",
   "execution_count": 83,
   "metadata": {},
   "outputs": [
    {
     "data": {
      "text/html": [
       "<div>\n",
       "<style>\n",
       "    .dataframe thead tr:only-child th {\n",
       "        text-align: right;\n",
       "    }\n",
       "\n",
       "    .dataframe thead th {\n",
       "        text-align: left;\n",
       "    }\n",
       "\n",
       "    .dataframe tbody tr th {\n",
       "        vertical-align: top;\n",
       "    }\n",
       "</style>\n",
       "<table border=\"1\" class=\"dataframe\">\n",
       "  <thead>\n",
       "    <tr style=\"text-align: right;\">\n",
       "      <th></th>\n",
       "      <th>EAP</th>\n",
       "      <th>HPL</th>\n",
       "      <th>MWS</th>\n",
       "    </tr>\n",
       "    <tr>\n",
       "      <th>id</th>\n",
       "      <th></th>\n",
       "      <th></th>\n",
       "      <th></th>\n",
       "    </tr>\n",
       "  </thead>\n",
       "  <tbody>\n",
       "    <tr>\n",
       "      <th>id02310</th>\n",
       "      <td>0.036631</td>\n",
       "      <td>0.009692</td>\n",
       "      <td>0.953677</td>\n",
       "    </tr>\n",
       "    <tr>\n",
       "      <th>id24541</th>\n",
       "      <td>0.923771</td>\n",
       "      <td>0.069926</td>\n",
       "      <td>0.006303</td>\n",
       "    </tr>\n",
       "    <tr>\n",
       "      <th>id00134</th>\n",
       "      <td>0.015204</td>\n",
       "      <td>0.977568</td>\n",
       "      <td>0.007228</td>\n",
       "    </tr>\n",
       "    <tr>\n",
       "      <th>id27757</th>\n",
       "      <td>0.639041</td>\n",
       "      <td>0.355005</td>\n",
       "      <td>0.005954</td>\n",
       "    </tr>\n",
       "    <tr>\n",
       "      <th>id04081</th>\n",
       "      <td>0.644050</td>\n",
       "      <td>0.254883</td>\n",
       "      <td>0.101067</td>\n",
       "    </tr>\n",
       "    <tr>\n",
       "      <th>id27337</th>\n",
       "      <td>0.892524</td>\n",
       "      <td>0.105497</td>\n",
       "      <td>0.001979</td>\n",
       "    </tr>\n",
       "    <tr>\n",
       "      <th>id24265</th>\n",
       "      <td>0.927638</td>\n",
       "      <td>0.061213</td>\n",
       "      <td>0.011149</td>\n",
       "    </tr>\n",
       "    <tr>\n",
       "      <th>id25917</th>\n",
       "      <td>0.020385</td>\n",
       "      <td>0.057341</td>\n",
       "      <td>0.922274</td>\n",
       "    </tr>\n",
       "    <tr>\n",
       "      <th>id04951</th>\n",
       "      <td>0.986071</td>\n",
       "      <td>0.013710</td>\n",
       "      <td>0.000219</td>\n",
       "    </tr>\n",
       "    <tr>\n",
       "      <th>id14549</th>\n",
       "      <td>0.610255</td>\n",
       "      <td>0.229264</td>\n",
       "      <td>0.160482</td>\n",
       "    </tr>\n",
       "  </tbody>\n",
       "</table>\n",
       "</div>"
      ],
      "text/plain": [
       "              EAP       HPL       MWS\n",
       "id                                   \n",
       "id02310  0.036631  0.009692  0.953677\n",
       "id24541  0.923771  0.069926  0.006303\n",
       "id00134  0.015204  0.977568  0.007228\n",
       "id27757  0.639041  0.355005  0.005954\n",
       "id04081  0.644050  0.254883  0.101067\n",
       "id27337  0.892524  0.105497  0.001979\n",
       "id24265  0.927638  0.061213  0.011149\n",
       "id25917  0.020385  0.057341  0.922274\n",
       "id04951  0.986071  0.013710  0.000219\n",
       "id14549  0.610255  0.229264  0.160482"
      ]
     },
     "execution_count": 83,
     "metadata": {},
     "output_type": "execute_result"
    }
   ],
   "source": [
    "submit_file = pd.DataFrame(test_predictions, columns=['EAP','HPL', 'MWS'], index=test.index)\n",
    "submit_file.head(10)"
   ]
  },
  {
   "cell_type": "code",
   "execution_count": 84,
   "metadata": {},
   "outputs": [],
   "source": [
    "submit_file.to_csv(\"~/Desktop/submit_author_1-1.csv\")"
   ]
  },
  {
   "attachments": {
    "Screen%20Shot%202017-11-26%20at%2023.54.05.png": {
     "image/png": "[encoded data removed]"
    }
   },
   "cell_type": "markdown",
   "metadata": {},
   "source": [
    "![Screen%20Shot%202017-11-26%20at%2023.54.05.png](attachment:Screen%20Shot%202017-11-26%20at%2023.54.05.png)"
   ]
  },
  {
   "cell_type": "raw",
   "metadata": {},
   "source": [
    "0.39041 трябва да се подобри, имаме 0.37466 - mission accomplished!!! 🎉"
   ]
  },
  {
   "cell_type": "raw",
   "metadata": {},
   "source": [
    "ще пробваме да закръглим резултатите близки го 0 и 1 за да не ни наказва оценяващата функция на kaggle"
   ]
  },
  {
   "cell_type": "code",
   "execution_count": 92,
   "metadata": {},
   "outputs": [],
   "source": [
    "hacked_submit_file = submit_file.copy()\n",
    "\n",
    "def hack_log_loss(value):\n",
    "    if value > 0.85:\n",
    "        return 1\n",
    "    elif value < 0.15:\n",
    "        return 0\n",
    "    return value\n",
    "\n",
    "hacked_submit_file['EAP'] = submit_file.apply(lambda row: hack_log_loss(row['EAP']), axis=1)\n",
    "hacked_submit_file['HPL'] = submit_file.apply(lambda row: hack_log_loss(row['HPL']), axis=1)\n",
    "hacked_submit_file['MWS'] = submit_file.apply(lambda row: hack_log_loss(row['MWS']), axis=1)"
   ]
  },
  {
   "cell_type": "code",
   "execution_count": 93,
   "metadata": {},
   "outputs": [
    {
     "data": {
      "text/html": [
       "<div>\n",
       "<style>\n",
       "    .dataframe thead tr:only-child th {\n",
       "        text-align: right;\n",
       "    }\n",
       "\n",
       "    .dataframe thead th {\n",
       "        text-align: left;\n",
       "    }\n",
       "\n",
       "    .dataframe tbody tr th {\n",
       "        vertical-align: top;\n",
       "    }\n",
       "</style>\n",
       "<table border=\"1\" class=\"dataframe\">\n",
       "  <thead>\n",
       "    <tr style=\"text-align: right;\">\n",
       "      <th></th>\n",
       "      <th>EAP</th>\n",
       "      <th>HPL</th>\n",
       "      <th>MWS</th>\n",
       "    </tr>\n",
       "    <tr>\n",
       "      <th>id</th>\n",
       "      <th></th>\n",
       "      <th></th>\n",
       "      <th></th>\n",
       "    </tr>\n",
       "  </thead>\n",
       "  <tbody>\n",
       "    <tr>\n",
       "      <th>id02310</th>\n",
       "      <td>0.000000</td>\n",
       "      <td>0.000000</td>\n",
       "      <td>1.000000</td>\n",
       "    </tr>\n",
       "    <tr>\n",
       "      <th>id24541</th>\n",
       "      <td>1.000000</td>\n",
       "      <td>0.000000</td>\n",
       "      <td>0.000000</td>\n",
       "    </tr>\n",
       "    <tr>\n",
       "      <th>id00134</th>\n",
       "      <td>0.000000</td>\n",
       "      <td>1.000000</td>\n",
       "      <td>0.000000</td>\n",
       "    </tr>\n",
       "    <tr>\n",
       "      <th>id27757</th>\n",
       "      <td>0.639041</td>\n",
       "      <td>0.355005</td>\n",
       "      <td>0.000000</td>\n",
       "    </tr>\n",
       "    <tr>\n",
       "      <th>id04081</th>\n",
       "      <td>0.644050</td>\n",
       "      <td>0.254883</td>\n",
       "      <td>0.000000</td>\n",
       "    </tr>\n",
       "    <tr>\n",
       "      <th>id27337</th>\n",
       "      <td>1.000000</td>\n",
       "      <td>0.000000</td>\n",
       "      <td>0.000000</td>\n",
       "    </tr>\n",
       "    <tr>\n",
       "      <th>id24265</th>\n",
       "      <td>1.000000</td>\n",
       "      <td>0.000000</td>\n",
       "      <td>0.000000</td>\n",
       "    </tr>\n",
       "    <tr>\n",
       "      <th>id25917</th>\n",
       "      <td>0.000000</td>\n",
       "      <td>0.000000</td>\n",
       "      <td>1.000000</td>\n",
       "    </tr>\n",
       "    <tr>\n",
       "      <th>id04951</th>\n",
       "      <td>1.000000</td>\n",
       "      <td>0.000000</td>\n",
       "      <td>0.000000</td>\n",
       "    </tr>\n",
       "    <tr>\n",
       "      <th>id14549</th>\n",
       "      <td>0.610255</td>\n",
       "      <td>0.229264</td>\n",
       "      <td>0.160482</td>\n",
       "    </tr>\n",
       "  </tbody>\n",
       "</table>\n",
       "</div>"
      ],
      "text/plain": [
       "              EAP       HPL       MWS\n",
       "id                                   \n",
       "id02310  0.000000  0.000000  1.000000\n",
       "id24541  1.000000  0.000000  0.000000\n",
       "id00134  0.000000  1.000000  0.000000\n",
       "id27757  0.639041  0.355005  0.000000\n",
       "id04081  0.644050  0.254883  0.000000\n",
       "id27337  1.000000  0.000000  0.000000\n",
       "id24265  1.000000  0.000000  0.000000\n",
       "id25917  0.000000  0.000000  1.000000\n",
       "id04951  1.000000  0.000000  0.000000\n",
       "id14549  0.610255  0.229264  0.160482"
      ]
     },
     "execution_count": 93,
     "metadata": {},
     "output_type": "execute_result"
    }
   ],
   "source": [
    "hacked_submit_file.head(10)"
   ]
  },
  {
   "cell_type": "code",
   "execution_count": 91,
   "metadata": {},
   "outputs": [],
   "source": [
    "hacked_submit_file.to_csv(\"~/Desktop/submit_author_2.csv\")"
   ]
  },
  {
   "cell_type": "raw",
   "metadata": {},
   "source": [
    "извод: резултата много ПАДНА!! 😁\n",
    "\n",
    "1.54295 - доста по-лош от предишния\n",
    "\n",
    "ще пробваме с по-малки стойности на закръгляне - само когато сме на над 95% уверени"
   ]
  },
  {
   "cell_type": "code",
   "execution_count": 94,
   "metadata": {},
   "outputs": [],
   "source": [
    "hacked_submit_file = submit_file.copy()\n",
    "\n",
    "def hack_log_loss(value):\n",
    "    if value > 0.95:\n",
    "        return 1\n",
    "    elif value < 0.05:\n",
    "        return 0\n",
    "    return value\n",
    "\n",
    "hacked_submit_file['EAP'] = submit_file.apply(lambda row: hack_log_loss(row['EAP']), axis=1)\n",
    "hacked_submit_file['HPL'] = submit_file.apply(lambda row: hack_log_loss(row['HPL']), axis=1)\n",
    "hacked_submit_file['MWS'] = submit_file.apply(lambda row: hack_log_loss(row['MWS']), axis=1)"
   ]
  },
  {
   "cell_type": "code",
   "execution_count": 95,
   "metadata": {},
   "outputs": [
    {
     "data": {
      "text/html": [
       "<div>\n",
       "<style>\n",
       "    .dataframe thead tr:only-child th {\n",
       "        text-align: right;\n",
       "    }\n",
       "\n",
       "    .dataframe thead th {\n",
       "        text-align: left;\n",
       "    }\n",
       "\n",
       "    .dataframe tbody tr th {\n",
       "        vertical-align: top;\n",
       "    }\n",
       "</style>\n",
       "<table border=\"1\" class=\"dataframe\">\n",
       "  <thead>\n",
       "    <tr style=\"text-align: right;\">\n",
       "      <th></th>\n",
       "      <th>EAP</th>\n",
       "      <th>HPL</th>\n",
       "      <th>MWS</th>\n",
       "    </tr>\n",
       "    <tr>\n",
       "      <th>id</th>\n",
       "      <th></th>\n",
       "      <th></th>\n",
       "      <th></th>\n",
       "    </tr>\n",
       "  </thead>\n",
       "  <tbody>\n",
       "    <tr>\n",
       "      <th>id02310</th>\n",
       "      <td>0.000000</td>\n",
       "      <td>0.000000</td>\n",
       "      <td>1.000000</td>\n",
       "    </tr>\n",
       "    <tr>\n",
       "      <th>id24541</th>\n",
       "      <td>0.923771</td>\n",
       "      <td>0.069926</td>\n",
       "      <td>0.000000</td>\n",
       "    </tr>\n",
       "    <tr>\n",
       "      <th>id00134</th>\n",
       "      <td>0.000000</td>\n",
       "      <td>1.000000</td>\n",
       "      <td>0.000000</td>\n",
       "    </tr>\n",
       "    <tr>\n",
       "      <th>id27757</th>\n",
       "      <td>0.639041</td>\n",
       "      <td>0.355005</td>\n",
       "      <td>0.000000</td>\n",
       "    </tr>\n",
       "    <tr>\n",
       "      <th>id04081</th>\n",
       "      <td>0.644050</td>\n",
       "      <td>0.254883</td>\n",
       "      <td>0.101067</td>\n",
       "    </tr>\n",
       "    <tr>\n",
       "      <th>id27337</th>\n",
       "      <td>0.892524</td>\n",
       "      <td>0.105497</td>\n",
       "      <td>0.000000</td>\n",
       "    </tr>\n",
       "    <tr>\n",
       "      <th>id24265</th>\n",
       "      <td>0.927638</td>\n",
       "      <td>0.061213</td>\n",
       "      <td>0.000000</td>\n",
       "    </tr>\n",
       "    <tr>\n",
       "      <th>id25917</th>\n",
       "      <td>0.000000</td>\n",
       "      <td>0.057341</td>\n",
       "      <td>0.922274</td>\n",
       "    </tr>\n",
       "    <tr>\n",
       "      <th>id04951</th>\n",
       "      <td>1.000000</td>\n",
       "      <td>0.000000</td>\n",
       "      <td>0.000000</td>\n",
       "    </tr>\n",
       "    <tr>\n",
       "      <th>id14549</th>\n",
       "      <td>0.610255</td>\n",
       "      <td>0.229264</td>\n",
       "      <td>0.160482</td>\n",
       "    </tr>\n",
       "  </tbody>\n",
       "</table>\n",
       "</div>"
      ],
      "text/plain": [
       "              EAP       HPL       MWS\n",
       "id                                   \n",
       "id02310  0.000000  0.000000  1.000000\n",
       "id24541  0.923771  0.069926  0.000000\n",
       "id00134  0.000000  1.000000  0.000000\n",
       "id27757  0.639041  0.355005  0.000000\n",
       "id04081  0.644050  0.254883  0.101067\n",
       "id27337  0.892524  0.105497  0.000000\n",
       "id24265  0.927638  0.061213  0.000000\n",
       "id25917  0.000000  0.057341  0.922274\n",
       "id04951  1.000000  0.000000  0.000000\n",
       "id14549  0.610255  0.229264  0.160482"
      ]
     },
     "execution_count": 95,
     "metadata": {},
     "output_type": "execute_result"
    }
   ],
   "source": [
    "hacked_submit_file.head(10)"
   ]
  },
  {
   "cell_type": "code",
   "execution_count": 98,
   "metadata": {},
   "outputs": [],
   "source": [
    "hacked_submit_file.to_csv(\"~/Desktop/submit_author_3.csv\")"
   ]
  },
  {
   "cell_type": "raw",
   "metadata": {},
   "source": [
    "и тук ударихме лимита на опити за един ден ;)\n",
    "\n",
    "--- nezt day ---\n",
    "\n",
    "резултата падна много, не се получава да се излъже системата толкова лесно 😤"
   ]
  }
 ],
 "metadata": {
  "kernelspec": {
   "display_name": "Python 3",
   "language": "python",
   "name": "python3"
  },
  "language_info": {
   "codemirror_mode": {
    "name": "ipython",
    "version": 3
   },
   "file_extension": ".py",
   "mimetype": "text/x-python",
   "name": "python",
   "nbconvert_exporter": "python",
   "pygments_lexer": "ipython3",
   "version": "3.6.3"
  }
 },
 "nbformat": 4,
 "nbformat_minor": 2
}
